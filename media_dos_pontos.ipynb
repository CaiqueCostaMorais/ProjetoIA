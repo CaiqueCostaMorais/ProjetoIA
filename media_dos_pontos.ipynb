{
 "cells": [
  {
   "cell_type": "markdown",
   "metadata": {},
   "source": [
    "## <b>IMPORTAÇÃO DE BIBLIOTECAS"
   ]
  },
  {
   "cell_type": "code",
   "execution_count": 2,
   "metadata": {},
   "outputs": [],
   "source": [
    "import cv2\n",
    "import numpy as np\n",
    "from scipy.spatial import distance\n",
    "import dlib\n",
    "import pandas\n",
    "import math\n",
    "import os\n",
    "import matplotlib.pyplot as plt"
   ]
  },
  {
   "cell_type": "markdown",
   "metadata": {},
   "source": [
    "## <b>CÁLCULO DOS LANDMARKS FACIAIS"
   ]
  },
  {
   "cell_type": "code",
   "execution_count": 3,
   "metadata": {},
   "outputs": [],
   "source": [
    "def getPoints(path_land_pred, path_png, option):\n",
    "    #1º PASSO (PRÉ-PROCESSAMENTO): CARREGAMOS A IMAGEM, APLICAMOS A ESCALA DE CINZA E DEFINIMOS O DETECTOR FACIAL E O DE LANDMARKS \n",
    "    img = cv2.imread(path_png)\n",
    "    img_gray = cv2.cvtColor(img, cv2.COLOR_BGR2GRAY)\n",
    "    mask = np.zeros_like(img_gray)\n",
    "    detector = dlib.get_frontal_face_detector()\n",
    "    predictor = dlib.shape_predictor(path_land_pred)\n",
    "    faces = detector(img_gray)\n",
    "    #2º PASSO (PROCESSAMENTO): APLICAMOS O DETECTOR DE LANDMARKS, E DEFINIMOS OS PONTOS X E Y DOS 81 PONTOS FACIAIS\n",
    "    for face in faces:\n",
    "        landmarks = predictor(img_gray, face)\n",
    "        landmarks_points = []\n",
    "        val_x = []\n",
    "        val_y = []\n",
    "        for n in range(0, 81):\n",
    "            x = landmarks.part(n).x\n",
    "            y = landmarks.part(n).y\n",
    "            landmarks_points.append((x, y))\n",
    "            cv2.circle(img, (x, y), 3, (0, 0, 255), -1)\n",
    "            points = np.array(landmarks_points, np.int32)\n",
    "    #3º PASSO (SAÍDA): RETORNAMOS EM 1 A IMAGEM COM OS LANDMARKS, EM 2 A IMAGEM INICIAL, OU O ARRAY DOS LANDMARKS\n",
    "    if option == '1':\n",
    "        cv2.imshow(\"Image 1\", img)\n",
    "        cv2.waitKey(0)\n",
    "        cv2.destroyAllWindows()\n",
    "        cv2.imwrite('../Imagens/Ontario/result/test_woman2.jpg', img)\n",
    "        \n",
    "    elif option == '2':\n",
    "        img_new = cv2.imread(path_png)\n",
    "        cv2.imshow(\"Image 2\", img_new)\n",
    "        cv2.waitKey(0)\n",
    "        cv2.destroyAllWindows()\n",
    "    else:\n",
    "        return landmarks_points"
   ]
  },
  {
   "cell_type": "markdown",
   "metadata": {},
   "source": [
    "## <b>CRIAÇÃO DA MÁSCARA E COMPARAÇÃO"
   ]
  },
  {
   "cell_type": "code",
   "execution_count": 31,
   "metadata": {},
   "outputs": [],
   "source": [
    "#1º PASSO (MÉDIA DOS PONTOS): CALCULAMOS A MÉDIAS DOS LANDMARKS DAS FACES QUE FORAM CARREGADAS\n",
    "def calculo(ldmk_points):\n",
    "    mean_matrix = []\n",
    "    mean_matrix = np.matrix.round(sum(np.array(ldmk_points))/len(ldmk_points))\n",
    "    mean_matrix = mean_matrix.astype('int')\n",
    "                \n",
    "    return mean_matrix\n",
    "\n",
    "#2º PASSO (COMPARAÇÃO): FAZEMOS A COMPARAÇÃO ENTRE OS ROSTOS DE TESTE COM A MÁSCARA DE TREINO\n",
    "def comparacao(mask, points):\n",
    "    pts = []\n",
    "    pts_comp = []\n",
    "    \n",
    "    for i in range(len(points)):\n",
    "        pts = []\n",
    "        for k in range(81):\n",
    "            valor = distance.euclidean(points[i][k], mask[0][k])\n",
    "            pts.append(valor)\n",
    "        pts_comp.append(pts)\n",
    "    for i in range(0, len(pts_comp)):\n",
    "        print(\"mulher \" + str(i+1) + \" = \" , abs(np.mean(pts_comp[i])))\n",
    "\n",
    "        \n",
    "def main():\n",
    "    ldmk_points = []\n",
    "    mask = []\n",
    "    points = []\n",
    "    pts_comparacao = []\n",
    "\n",
    "    for i in range(1, len(os.listdir('../Imagens/Ontario/train/'))+1):\n",
    "        ldmk_points.append(getPoints('../Landmarks/shape_predictor_81_face_landmarks.dat', '../Imagens/Ontario/train/teste' + str(i) + '.jpg', '0'))\n",
    "    \n",
    "    for i in range(1, len(os.listdir('../Imagens/Ontario/test/'))+1):\n",
    "        points.append(np.array(getPoints('../Landmarks/shape_predictor_81_face_landmarks.dat', '../Imagens/Ontario/test/teste' + str(i) + '.jpg', '0')))\n",
    "\n",
    "    \n",
    "    mask.append((calculo(ldmk_points)))\n",
    "    comparacao(mask, points)"
   ]
  },
  {
   "cell_type": "code",
   "execution_count": 32,
   "metadata": {
    "scrolled": true
   },
   "outputs": [
    {
     "name": "stdout",
     "output_type": "stream",
     "text": [
      "mulher 1 =  23.514736970951834\n",
      "mulher 2 =  19.646193701061776\n",
      "mulher 3 =  12.32569558460885\n",
      "mulher 4 =  20.184100315852362\n",
      "mulher 5 =  14.01440174515263\n"
     ]
    }
   ],
   "source": [
    "if __name__ == \"__main__\":\n",
    "    main()"
   ]
  }
 ],
 "metadata": {
  "kernelspec": {
   "display_name": "Python 3",
   "language": "python",
   "name": "python3"
  },
  "language_info": {
   "codemirror_mode": {
    "name": "ipython",
    "version": 3
   },
   "file_extension": ".py",
   "mimetype": "text/x-python",
   "name": "python",
   "nbconvert_exporter": "python",
   "pygments_lexer": "ipython3",
   "version": "3.5.6"
  }
 },
 "nbformat": 4,
 "nbformat_minor": 4
}
